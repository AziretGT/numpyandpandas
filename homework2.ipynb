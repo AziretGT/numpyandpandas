{
 "cells": [
  {
   "cell_type": "markdown",
   "id": "b9ef73af",
   "metadata": {},
   "source": [
    "# Homework"
   ]
  },
  {
   "cell_type": "code",
   "execution_count": 11,
   "id": "e7e5acfb",
   "metadata": {},
   "outputs": [],
   "source": [
    "import pandas as pd \n",
    "import numpy as np"
   ]
  },
  {
   "cell_type": "markdown",
   "id": "820e9a86",
   "metadata": {},
   "source": [
    "## Question 1: Which type of data can be used while creating a series object in pandas?"
   ]
  },
  {
   "cell_type": "markdown",
   "id": "88ff4631",
   "metadata": {},
   "source": [
    "In pandas, a Series is a one-dimensional labeled array capable of holding any data type. The data types that can be used to create a Series object in pandas include:\n",
    "\n",
    "NUMERIC Types:\n",
    "\n",
    "INTEGER (int)\n",
    "FLOAT (float)\n",
    "COMPLEX (complex):\n",
    "\n",
    "DATETIME64: Represents timestamps.\n",
    "\n",
    "BOOL: Represents True or False values.\n",
    "\n",
    "OBJECT: Represents strings or mixed data types.\n",
    "\n",
    "CATEGORY: Represents categorical data.\n",
    "\n",
    "You can create a Series using these data types based on the type of data you are working with. When you create a Series, you can also explicitly specify the data type using the dtype parameter if needed."
   ]
  },
  {
   "cell_type": "markdown",
   "id": "6ef86b03",
   "metadata": {},
   "source": [
    "## Question 2: Create a series having the month's number as data and assign name as their index values? "
   ]
  },
  {
   "cell_type": "markdown",
   "id": "dcec9d19",
   "metadata": {},
   "source": [
    "We can create a Series with list and dictionary "
   ]
  },
  {
   "cell_type": "markdown",
   "id": "372865cc",
   "metadata": {},
   "source": [
    "WITH DICTIONARY"
   ]
  },
  {
   "cell_type": "code",
   "execution_count": 12,
   "id": "12830d0e",
   "metadata": {},
   "outputs": [
    {
     "name": "stdout",
     "output_type": "stream",
     "text": [
      "January       1\n",
      "February      2\n",
      "March         3\n",
      "April         4\n",
      "May           5\n",
      "June          6\n",
      "July          7\n",
      "August        8\n",
      "September     9\n",
      "October      10\n",
      "November     11\n",
      "December     12\n",
      "dtype: int64\n"
     ]
    }
   ],
   "source": [
    "# 1 step\n",
    "month_data = {\n",
    "    'January': 1,\n",
    "    'February': 2,\n",
    "    'March': 3,\n",
    "    'April': 4,\n",
    "    'May': 5,\n",
    "    'June': 6,\n",
    "    'July': 7,\n",
    "    'August': 8,\n",
    "    'September': 9,\n",
    "    'October': 10,\n",
    "    'November': 11,\n",
    "    'December': 12\n",
    "}\n",
    "# 2 step\n",
    "calendar = pd.Series(month_data)\n",
    "# 3 step\n",
    "print(calendar)"
   ]
  },
  {
   "cell_type": "markdown",
   "id": "da8cd437",
   "metadata": {},
   "source": [
    "WITH LIST"
   ]
  },
  {
   "cell_type": "code",
   "execution_count": 13,
   "id": "da486c2f",
   "metadata": {},
   "outputs": [
    {
     "name": "stdout",
     "output_type": "stream",
     "text": [
      "January       1\n",
      "February      2\n",
      "March         3\n",
      "April         4\n",
      "May           5\n",
      "June          6\n",
      "July          7\n",
      "August        8\n",
      "September     9\n",
      "October      10\n",
      "November     11\n",
      "December     12\n",
      "dtype: int64\n"
     ]
    }
   ],
   "source": [
    "# 1 step\n",
    "months = ['January', 'February', 'March', 'April', 'May', 'June', 'July', 'August', 'September', 'October', 'November', 'December']\n",
    "month_numbers = list(range(1, 13))\n",
    "# 2 step\n",
    "s = pd.Series(month_numbers, index=months)\n",
    "# 3 step\n",
    "print(s)"
   ]
  },
  {
   "cell_type": "markdown",
   "id": "189a2408",
   "metadata": {},
   "source": [
    "## Question 3: Write a program to create a series object using the dictionary which store the number of students in fresh batch groups ( MatMIE, Mat DAIS, COMIE, COMEC)?"
   ]
  },
  {
   "cell_type": "code",
   "execution_count": 14,
   "id": "fffab29d",
   "metadata": {},
   "outputs": [
    {
     "name": "stdout",
     "output_type": "stream",
     "text": [
      "Number of students in fresh batch groups:\n",
      "MATDAIS23    29\n",
      "MATMIE23     30\n",
      "COMIE23      28\n",
      "COMEC23      32\n",
      "dtype: int64\n"
     ]
    }
   ],
   "source": [
    "fresh_batch_groups = {\n",
    "    'MATDAIS23': 29,\n",
    "    'MATMIE23': 30,\n",
    "    'COMIE23': 28,\n",
    "    'COMEC23': 32\n",
    "}\n",
    "\n",
    "students_series = pd.Series(fresh_batch_groups)\n",
    "\n",
    "print(\"Number of students in fresh batch groups:\")\n",
    "print(students_series)"
   ]
  },
  {
   "cell_type": "markdown",
   "id": "a8c37681",
   "metadata": {},
   "source": [
    "## Question 4: Write a Pandas program to create and display a DataFrame from a specified dictionary data which has the index labels."
   ]
  },
  {
   "cell_type": "markdown",
   "id": "8bc1b2a8",
   "metadata": {},
   "source": [
    "Sample Python dictionary data and list labels:\n",
    "\n",
    "exam_data = {'name': ['Anastasia', 'Dima', 'Katherine', 'James', 'Emily', 'Michael', 'Matthew', 'Laura', 'Kevin', 'Jonas'],\n",
    "            'score': [12.5, 9, 16.5, np.nan, 9, 20, 14.5, np.nan, 8, 19],\n",
    "            'attempts': [1, 3, 2, 3, 2, 3, 1, 1, 2, 1],\n",
    "            'qualify': ['yes', 'no', 'yes', 'no', 'no', 'yes', 'yes', 'no', 'no', 'yes']}\n",
    "labels = ['a', 'b', 'c', 'd', 'e', 'f', 'g', 'h', 'i', 'j'] "
   ]
  },
  {
   "cell_type": "code",
   "execution_count": 15,
   "id": "90828638",
   "metadata": {},
   "outputs": [
    {
     "name": "stdout",
     "output_type": "stream",
     "text": [
      "        name  score  attempts qualify\n",
      "a  Anastasia   12.5         1     yes\n",
      "b       Dima    9.0         3      no\n",
      "c  Katherine   16.5         2     yes\n",
      "d      James    NaN         3      no\n",
      "e      Emily    9.0         2      no\n",
      "f    Michael   20.0         3     yes\n",
      "g    Matthew   14.5         1     yes\n",
      "h      Laura    NaN         1      no\n",
      "i      Kevin    8.0         2      no\n",
      "j      Jonas   19.0         1     yes\n"
     ]
    }
   ],
   "source": [
    "exam_data = {'name': ['Anastasia', 'Dima', 'Katherine', 'James', 'Emily', 'Michael', 'Matthew', 'Laura', 'Kevin', 'Jonas'],\n",
    "             'score': [12.5, 9, 16.5, np.nan, 9, 20, 14.5, np.nan, 8, 19],\n",
    "             'attempts': [1, 3, 2, 3, 2, 3, 1, 1, 2, 1],\n",
    "             'qualify': ['yes', 'no', 'yes', 'no', 'no', 'yes', 'yes', 'no', 'no', 'yes']}\n",
    "labels = ['a', 'b', 'c', 'd', 'e', 'f', 'g', 'h', 'i', 'j'] \n",
    "\n",
    "df = pd.DataFrame(exam_data, index=labels)\n",
    "\n",
    "print(df)"
   ]
  },
  {
   "cell_type": "markdown",
   "id": "e2e1f7c5",
   "metadata": {},
   "source": [
    "## Question 5: Write a Pandas program to select the rows where the number of attempts in the examination is greater than 2."
   ]
  },
  {
   "cell_type": "markdown",
   "id": "d0f31a08",
   "metadata": {},
   "source": [
    "Sample Python dictionary data and list labels:\n",
    "\n",
    "exam_data = {'name': ['Anastasia', 'Dima', 'Katherine', 'James', 'Emily', 'Michael', 'Matthew', 'Laura', 'Kevin', 'Jonas'],\n",
    "            'score': [12.5, 9, 16.5, np.nan, 9, 20, 14.5, np.nan, 8, 19],\n",
    "            'attempts': [1, 3, 2, 3, 2, 3, 1, 1, 2, 1],\n",
    "            'qualify': ['yes', 'no', 'yes', 'no', 'no', 'yes', 'yes', 'no', 'no', 'yes']}\n",
    "labels = ['a', 'b', 'c', 'd', 'e', 'f', 'g', 'h', 'i', 'j']\n",
    "Expected Output:\n",
    "\n",
    "Number of attempts in the examination is greater than 2:\n",
    "      name  score  attempts qualify\n",
    "b     Dima    9.0         3      no\n",
    "d    James    NaN         3      no\n",
    "f  Michael   20.0         3     yes"
   ]
  },
  {
   "cell_type": "code",
   "execution_count": 16,
   "id": "9f94bec8",
   "metadata": {},
   "outputs": [
    {
     "name": "stdout",
     "output_type": "stream",
     "text": [
      "      name  score  attempts qualify\n",
      "b     Dima    9.0         3      no\n",
      "d    James    NaN         3      no\n",
      "f  Michael   20.0         3     yes\n"
     ]
    }
   ],
   "source": [
    "exam_data = {\n",
    "    'name': ['Anastasia', 'Dima', 'Katherine', 'James', 'Emily', 'Michael', 'Matthew', 'Laura', 'Kevin', 'Jonas'],\n",
    "    'score': [12.5, 9, 16.5, np.nan, 9, 20, 14.5, np.nan, 8, 19],\n",
    "    'attempts': [1, 3, 2, 3, 2, 3, 1, 1, 2, 1],\n",
    "    'qualify': ['yes', 'no', 'yes', 'no', 'no', 'yes', 'yes', 'no', 'no', 'yes']\n",
    "}\n",
    "labels = ['a', 'b', 'c', 'd', 'e', 'f', 'g', 'h', 'i', 'j']\n",
    "\n",
    "df = pd.DataFrame(exam_data, index=labels)\n",
    "\n",
    "result = df[df['attempts'] > 2]\n",
    "\n",
    "print(result)"
   ]
  }
 ],
 "metadata": {
  "kernelspec": {
   "display_name": "Python 3 (ipykernel)",
   "language": "python",
   "name": "python3"
  },
  "language_info": {
   "codemirror_mode": {
    "name": "ipython",
    "version": 3
   },
   "file_extension": ".py",
   "mimetype": "text/x-python",
   "name": "python",
   "nbconvert_exporter": "python",
   "pygments_lexer": "ipython3",
   "version": "3.11.5"
  }
 },
 "nbformat": 4,
 "nbformat_minor": 5
}
